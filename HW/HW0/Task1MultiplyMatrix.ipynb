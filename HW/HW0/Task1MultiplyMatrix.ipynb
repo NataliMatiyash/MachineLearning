{
 "cells": [
  {
   "cell_type": "code",
   "execution_count": 1,
   "metadata": {
    "scrolled": true
   },
   "outputs": [
    {
     "name": "stdout",
     "output_type": "stream",
     "text": [
      "[[2330. 2081. 2011. ... 1952. 2041. 2015.]\n",
      " [2233. 2207. 2108. ... 2060. 1954. 2084.]\n",
      " [1993. 1854. 2008. ... 1637. 1774. 1933.]\n",
      " ...\n",
      " [1757. 1816. 1711. ... 1544. 1585. 1870.]\n",
      " [2200. 2083. 2084. ... 2117. 2014. 1982.]\n",
      " [2069. 1804. 1782. ... 1786. 1784. 1954.]]\n",
      "Seconds by standart algorithm = 1.007336139678955\n"
     ]
    }
   ],
   "source": [
    "import numpy as np\n",
    "import time\n",
    "n = 100\n",
    "m = 100\n",
    "q = 100\n",
    "ran_max = 10\n",
    "X = np.random.randint(ran_max, size=(n, m))\n",
    "Y = np.random.randint(ran_max, size=(m, q))\n",
    "s = (m, q)\n",
    "result1 = np.zeros(s)\n",
    "start_time1 = time.time()\n",
    "\n",
    "# the most standart algorithm of matrix multiplication \n",
    "\n",
    "for i in range(len(X)):\n",
    "   for j in range(len(Y[0])):\n",
    "       for k in range(len(Y)):\n",
    "           result1[i][j] += X[i][k] * Y[k][j]\n",
    "finish_time1 = time.time()\n",
    "print(result1)\n",
    "print(\"Seconds by standart algorithm =\", finish_time1 - start_time1)"
   ]
  },
  {
   "cell_type": "code",
   "execution_count": 2,
   "metadata": {},
   "outputs": [
    {
     "name": "stdout",
     "output_type": "stream",
     "text": [
      "Seconds matmul = 0.0029647350311279297\n"
     ]
    }
   ],
   "source": [
    "#If both a and b are 2-D arrays, it is matrix multiplication, but using matmul or a @ b is preferred\n",
    "result1 = np.zeros(s)\n",
    "start_time2 = time.time()\n",
    "result2 = np.matmul(X,Y)\n",
    "finish_time2 = time.time()\n",
    "print(\"Seconds matmul =\", finish_time2 - start_time2)\n",
    "\n"
   ]
  },
  {
   "cell_type": "code",
   "execution_count": 3,
   "metadata": {},
   "outputs": [
    {
     "name": "stdout",
     "output_type": "stream",
     "text": [
      "Seconds dot = 0.0010170936584472656\n"
     ]
    }
   ],
   "source": [
    "#Try numpy.dot\n",
    "start_time3 = time.time()\n",
    "result1 = np.dot(X,Y)\n",
    "finish_time3 = time.time()\n",
    "print(\"Seconds dot =\", finish_time3 - start_time3)"
   ]
  },
  {
   "cell_type": "code",
   "execution_count": 4,
   "metadata": {},
   "outputs": [
    {
     "name": "stdout",
     "output_type": "stream",
     "text": [
      "[[2330. 2081. 2011. ... 1952. 2041. 2015.]\n",
      " [2233. 2207. 2108. ... 2060. 1954. 2084.]\n",
      " [1993. 1854. 2008. ... 1637. 1774. 1933.]\n",
      " ...\n",
      " [1757. 1816. 1711. ... 1544. 1585. 1870.]\n",
      " [2200. 2083. 2084. ... 2117. 2014. 1982.]\n",
      " [2069. 1804. 1782. ... 1786. 1784. 1954.]]\n",
      "Seconds by this algorithm = 0.30015110969543457\n"
     ]
    }
   ],
   "source": [
    "\n",
    "result1 = np.zeros(s)\n",
    "#the idea of the method is to transpose the matrix\n",
    "# as we see it works quicker\n",
    "start_time2 = time.time()\n",
    "Y = np.transpose(Y)\n",
    "for i in range(n):\n",
    "    for j in range(q):\n",
    "        result1[i][j] = np.sum([a*b for a,b in zip(X[i],Y[j])])\n",
    "finish_time2 = time.time()\n",
    "print(result1)\n",
    "print(\"Seconds by this algorithm =\", finish_time2 - start_time2)"
   ]
  },
  {
   "cell_type": "code",
   "execution_count": null,
   "metadata": {},
   "outputs": [],
   "source": []
  }
 ],
 "metadata": {
  "kernelspec": {
   "display_name": "Python 3",
   "language": "python",
   "name": "python3"
  },
  "language_info": {
   "codemirror_mode": {
    "name": "ipython",
    "version": 3
   },
   "file_extension": ".py",
   "mimetype": "text/x-python",
   "name": "python",
   "nbconvert_exporter": "python",
   "pygments_lexer": "ipython3",
   "version": "3.7.4"
  }
 },
 "nbformat": 4,
 "nbformat_minor": 2
}
