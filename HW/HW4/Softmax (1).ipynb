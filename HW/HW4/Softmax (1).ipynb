{
 "cells": [
  {
   "cell_type": "markdown",
   "metadata": {},
   "source": [
    "В цій практичній роботі ми спробуємо реалізувати нейронну мережу з двох шарів (прихований і вихідний). Запропонований підхід стане заготовкою для реалізації наступних оптимізацій: MBGD, ADAM та регуляризації. \n",
    "\n",
    "Сьогодні ж вам пропонується додати до цього класу підтримку довільної кількості шарів та нейронів в них (наприклад, передавати їх параметром в конструктор, як це робиться в MLPClassifier за допомогою hidden_layer_sizes). Також потрібно передбачити можливість ранньої зупинки ітераційного процесу, якщо значення штрафної функції не покращуватиметься протягом певної кількості ітерацій. Наприклад, якщо протягом $k$ ітерацій штрафна функція за модулем не стане меншою, ніж на поточному кроці."
   ]
  },
  {
   "cell_type": "code",
   "execution_count": 1,
   "metadata": {},
   "outputs": [],
   "source": [
    "import numpy as np\n",
    "import pandas as pd\n",
    "from sklearn.model_selection import train_test_split\n",
    "from mpl_toolkits.mplot3d import Axes3D\n",
    "import matplotlib.pyplot as plt\n",
    "\n",
    "from matplotlib.colors import ListedColormap\n",
    "cm_bright = ListedColormap(['#FF0000', '#0000FF'])\n",
    "%matplotlib inline\n",
    "from sklearn.metrics import accuracy_score\n",
    "\n",
    "import sklearn.linear_model"
   ]
  },
  {
   "cell_type": "code",
   "execution_count": 2,
   "metadata": {},
   "outputs": [],
   "source": [
    "def plot_surface(cls, x_1, x_2, ax=None, threshold=0.5, contourf=False):\n",
    "    xx1, xx2 = np.meshgrid(np.linspace(x_1.min(), x_1.max(), 100), \n",
    "                           np.linspace(x_2.min(), x_2.max(), 100))\n",
    "\n",
    "    X_pred = np.c_[xx1.ravel(), xx2.ravel()]\n",
    "    pred = cls.predict_proba(X_pred)[:, 0]\n",
    "    Z = pred.reshape((100, 100))\n",
    "    if ax is None:\n",
    "        ax = plt.gca()\n",
    "    ax.contour(xx1, xx2, Z, levels=[threshold], colors='black')\n",
    "    ax.set_xlim((x_1.min(), x_1.max()))\n",
    "    ax.set_ylim((x_2.min(), x_2.max()))"
   ]
  },
  {
   "cell_type": "code",
   "execution_count": 3,
   "metadata": {},
   "outputs": [],
   "source": [
    "def plot_data(X, y):\n",
    "    ax = plt.gca()\n",
    "    ax.scatter(X[:,0], X[:,1], c=(y == 1), cmap=cm_bright)"
   ]
  },
  {
   "cell_type": "code",
   "execution_count": 4,
   "metadata": {},
   "outputs": [],
   "source": [
    "class NeuralNet:\n",
    "    \"\"\"\n",
    "    NN for binary classification\n",
    "    Attributes:\n",
    "    ...\n",
    "    \"\"\"\n",
    "    \n",
    "    def __init__(self, normalize = True, learning_rate = 0.01, num_iter = 30000,num_node=[20,1],accuracy=0.00001):\n",
    "        self.learning_rate = learning_rate\n",
    "        self.num_iter = num_iter\n",
    "        self.normalize = normalize\n",
    "        self.num_layer=len(num_node)\n",
    "        self.num_node=num_node\n",
    "        self.accuracy=accuracy\n",
    "        self.W=None\n",
    "        self.b=None\n",
    "        self.Z=None\n",
    "        self.A=None\n",
    "        self.dW=None\n",
    "        self.db=None\n",
    "        self.dZ=None\n",
    "        self.dA=None\n",
    "    \n",
    "    def __normalize(self, X, mean = None, std = None):\n",
    "        \"\"\"\n",
    "        Зверніть увагу, що нормалізація вхідних даних є дуже важливою для швидкодії нейронних мереж.\n",
    "        \"\"\"\n",
    "        n = X.shape[0]\n",
    "        m = mean\n",
    "        if m is None:\n",
    "            m = np.mean(X, axis=1).reshape((n, 1))\n",
    "        s = std\n",
    "        if s is None:\n",
    "            s = np.std(X, axis=1).reshape((n, 1))\n",
    "        X_new = (X - m) / s**2\n",
    "        return X_new, m, s\n",
    "\n",
    "    def __sigmoid(self, Z):\n",
    "        \"\"\"\n",
    "        В наступних практичних потрібно буде додати підтримку й інших активаційних функцій - це один з гіперпараметрів. \n",
    "        Їх можна вибирати для всіх шарів одночасно або мати різні активаційні функції на кожному з них.\n",
    "        \"\"\"\n",
    "        return 1 / (1 + np.exp(-Z))\n",
    "    \n",
    "    \n",
    "    def __softmax(self, Z):\n",
    "        return np.exp(Z) / np.sum(np.exp(Z)) \n",
    "    \n",
    "    def __initialize_parameters(self, n_x):\n",
    "        \n",
    "        \n",
    "        self.W=[]\n",
    "        self.W.append(list(np.random.randn(self.num_node[0], n_x)/np.sqrt(n_x)))\n",
    "        self.b=[np.zeros((self.num_node[i], 1)) for i in range(self.num_layer)]\n",
    "        self.W=self.W+[list((np.random.randn(self.num_node[i],self.num_node[i-1])/\n",
    "                             np.sqrt(self.num_node[i-1]))) for i in range(1,self.num_layer)]\n",
    "\n",
    "       \n",
    "    def __forward_propagation(self, X):\n",
    "\n",
    "        self.Z=[]\n",
    "        self.A=[]\n",
    "        self.Z.append(np.dot(self.W[0], X) + self.b[0])\n",
    "        self.A.append(self.__sigmoid(self.Z[0]))\n",
    "\n",
    "        for i in range(1,len(self.W)-1):\n",
    "            self.Z.append(np.dot(self.W[i], self.A[i-1]) + self.b[i])\n",
    "            self.A.append(self.__softmax(self.Z[i]))\n",
    "            \n",
    "        self.Z.append(np.dot(self.W[-1], self.A[-1]) + self.b[-1])\n",
    "        self.A.append(self.__sigmoid(self.Z[-1]))\n",
    "        \n",
    "        return self.A[-1]\n",
    "    \n",
    "    def compute_cost(self, A, Y):\n",
    "        J = -np.mean(Y.T * np.log(A.T+ 1e-8))\n",
    "        return J\n",
    "        \n",
    "    def __backward_propagation(self, X, Y):\n",
    "        m = X.shape[1]\n",
    "        n = X.shape[0]\n",
    "        W, b,Z, A=self.W,self.b,self.Z,self.A\n",
    "\n",
    "      \n",
    "        self.dW,self.db,self.dZ,self.dA=[],[],[],[]\n",
    "        self.dZ.append(A[-1] - Y)\n",
    "        self.dW.append(1. / m * np.dot(self.dZ[-1], A[-2].T))\n",
    "        self.db.append(1. / m * np.sum(self.dZ[-1], axis = 1, keepdims = True))\n",
    "        self.dA.append(np.dot(np.array(W[-1]).T, self.dZ[-1]))       \n",
    "\n",
    "\n",
    "            \n",
    "\n",
    "        for i in range(self.num_layer-1):\n",
    "            self.dZ.append(np.multiply(self.dA[i], np.multiply(A[self.num_layer-2-i], 1 - A[self.num_layer-2-i])))\n",
    "            if(self.num_layer-3-i>=0):\n",
    "                self.dW.append( 1. / m * np.dot(self.dZ[i+1], A[self.num_layer-3-i].T))\n",
    "            else:\n",
    "                self.dW.append( 1. / m * np.dot(self.dZ[i+1], X.T))\n",
    "            self.db.append( 1. / m * np.sum(self.dZ[i+1], axis = 1, keepdims = True))\n",
    "            self.dA.append(np.dot(np.array(W[self.num_layer-2-i]).T, self.dZ[i+1]))\n",
    "       \n",
    "        self.dW.reverse()\n",
    "        self.db.reverse()\n",
    "        self.dZ.reverse()\n",
    "        self.dA.reverse()\n",
    "\n",
    "    \n",
    "    def __update_parameters(self):\n",
    "        \n",
    "        for i in range(self.num_layer):\n",
    "            self.W[i] = self.W[i] - self.learning_rate * self.dW[i]\n",
    "            self.b[i] = self.b[i] - self.learning_rate * self.db[i]\n",
    "\n",
    "        \n",
    "    def fit(self, X_vert, Y_vert, print_cost = True):\n",
    "        \n",
    "        X, Y = X_vert.T, Y_vert.T\n",
    "        \n",
    "        if self.normalize:\n",
    "            X, self.__mean, self.__std = self.__normalize(X)\n",
    "        \n",
    "        costs = []\n",
    "        check = []\n",
    "        m = X.shape[1]\n",
    "        n_x = X.shape[0]\n",
    "        \n",
    "        self.__initialize_parameters(n_x)\n",
    " \n",
    "        for i in range(self.num_iter):\n",
    "            A = self.__forward_propagation(X)\n",
    "\n",
    "            cost = self.compute_cost(A, Y)\n",
    "            self.__backward_propagation(X, Y)\n",
    "\n",
    "            self.__update_parameters()\n",
    "        \n",
    "            check.append(cost)\n",
    "            if print_cost and i % 1000 == 0:\n",
    "                print(\"{}-th iteration: {}\".format(i, cost))\n",
    "\n",
    "            if i % 10 == 0:\n",
    "                costs.append(cost)\n",
    "                \n",
    "            if(len(check)>2 and abs(check[i]-check[i-1])<self.accuracy):\n",
    "                break\n",
    "\n",
    "        if print_cost:\n",
    "            plt.plot(costs)\n",
    "            plt.ylabel(\"Cost\")\n",
    "            plt.xlabel(\"Iteration, *1000\")\n",
    "            plt.show()\n",
    "    \n",
    "    def predict_proba(self, X_vert):\n",
    "        X = X_vert.T\n",
    "        if self.normalize:\n",
    "            X, _, _ = self.__normalize(X, self.__mean, self.__std)\n",
    "        \n",
    "        probs = self.__forward_propagation(X)[0]\n",
    "        \n",
    "        return np.column_stack((probs.T, 1 - probs.T))\n",
    "    \n",
    "    def predict(self, X_vert):\n",
    "        positive_probs = self.predict_proba(X_vert)[:, 0]\n",
    "        return (positive_probs >= 0.5).astype(int)   "
   ]
  },
  {
   "cell_type": "markdown",
   "metadata": {},
   "source": [
    "Спочатку спробуйте цей клас на одній задачі, а потім на іншій."
   ]
  },
  {
   "cell_type": "code",
   "execution_count": 5,
   "metadata": {},
   "outputs": [],
   "source": [
    "#data_columns = [\"exam1\", \"exam2\"]\n",
    "#target_column = \"submitted\"\n",
    "#df = pd.read_csv(\"sats.csv\")\n",
    "#X, Y = df[data_columns].values, df[target_column].reshape((df.shape[0], 1))\n",
    "#print('Training set: X={}, y={}'.format(X.shape, Y.shape))"
   ]
  },
  {
   "cell_type": "code",
   "execution_count": 6,
   "metadata": {},
   "outputs": [
    {
     "name": "stdout",
     "output_type": "stream",
     "text": [
      "Training set: X=(118, 2), y=(118,)\n"
     ]
    }
   ],
   "source": [
    "data_columns = [\"test1\", \"test2\"]\n",
    "target_column = \"passed\"\n",
    "df = pd.read_csv(\"tests.csv\")\n",
    "X, Y = df[data_columns].values, df[target_column]\n",
    "print('Training set: X={}, y={}'.format(X.shape, Y.shape))"
   ]
  },
  {
   "cell_type": "code",
   "execution_count": 7,
   "metadata": {},
   "outputs": [
    {
     "data": {
      "image/png": "[encoded data removed]",
      "text/plain": [
       "<Figure size 432x288 with 1 Axes>"
      ]
     },
     "metadata": {
      "needs_background": "light"
     },
     "output_type": "display_data"
    }
   ],
   "source": [
    "plot_data(X, Y)"
   ]
  },
  {
   "cell_type": "code",
   "execution_count": 8,
   "metadata": {},
   "outputs": [],
   "source": [
    "cls = NeuralNet(normalize = True, \n",
    "                learning_rate = 0.5, \n",
    "                num_iter = 3000,\n",
    "                num_node=[8,15,],\n",
    "                accuracy=1e-10)"
   ]
  },
  {
   "cell_type": "code",
   "execution_count": 9,
   "metadata": {},
   "outputs": [
    {
     "name": "stdout",
     "output_type": "stream",
     "text": [
      "0-th iteration: 0.38155750639092495\n",
      "1000-th iteration: 0.15346370540079327\n",
      "2000-th iteration: 0.14789997163709334\n"
     ]
    },
    {
     "data": {
      "image/png": "[encoded data removed]",
      "text/plain": [
       "<Figure size 432x288 with 1 Axes>"
      ]
     },
     "metadata": {
      "needs_background": "light"
     },
     "output_type": "display_data"
    }
   ],
   "source": [
    "cls.fit(X, Y.values.reshape((df.shape[0], 1)))"
   ]
  },
  {
   "cell_type": "code",
   "execution_count": 10,
   "metadata": {},
   "outputs": [
    {
     "data": {
      "text/plain": [
       "array([[3.88271054e-01, 6.11728946e-01],\n",
       "       [7.60460532e-01, 2.39539468e-01],\n",
       "       [9.43949876e-02, 9.05605012e-01],\n",
       "       [2.13610629e-01, 7.86389371e-01],\n",
       "       [7.27941823e-02, 9.27205818e-01],\n",
       "       [9.49325141e-01, 5.06748594e-02],\n",
       "       [7.01684386e-02, 9.29831561e-01],\n",
       "       [2.37432916e-01, 7.62567084e-01],\n",
       "       [7.93779877e-01, 2.06220123e-01],\n",
       "       [9.52587344e-01, 4.74126564e-02],\n",
       "       [9.53305858e-01, 4.66941421e-02],\n",
       "       [1.26439839e-01, 8.73560161e-01],\n",
       "       [1.96610559e-01, 8.03389441e-01],\n",
       "       [1.18795006e-01, 8.81204994e-01],\n",
       "       [9.16535341e-01, 8.34646594e-02],\n",
       "       [3.22191641e-01, 6.77808359e-01],\n",
       "       [5.68601174e-01, 4.31398826e-01],\n",
       "       [9.79304028e-01, 2.06959724e-02],\n",
       "       [9.06871808e-01, 9.31281918e-02],\n",
       "       [7.22647194e-03, 9.92773528e-01],\n",
       "       [9.99667580e-01, 3.32419908e-04],\n",
       "       [9.49866750e-01, 5.01332501e-02],\n",
       "       [9.42593349e-01, 5.74066506e-02],\n",
       "       [1.15064932e-01, 8.84935068e-01],\n",
       "       [4.96216617e-01, 5.03783383e-01],\n",
       "       [9.54227129e-01, 4.57728712e-02],\n",
       "       [1.48369626e-01, 8.51630374e-01],\n",
       "       [9.88328231e-02, 9.01167177e-01],\n",
       "       [5.76069989e-01, 4.23930011e-01],\n",
       "       [9.35835986e-01, 6.41640138e-02],\n",
       "       [9.94976258e-01, 5.02374211e-03],\n",
       "       [4.06256979e-01, 5.93743021e-01],\n",
       "       [6.20625755e-01, 3.79374245e-01],\n",
       "       [9.51573510e-01, 4.84264901e-02],\n",
       "       [5.36300739e-02, 9.46369926e-01],\n",
       "       [5.44119081e-01, 4.55880919e-01],\n",
       "       [1.82916148e-01, 8.17083852e-01],\n",
       "       [2.05848636e-02, 9.79415136e-01],\n",
       "       [9.99871346e-01, 1.28653937e-04],\n",
       "       [7.97133797e-02, 9.20286620e-01],\n",
       "       [1.17171180e-01, 8.82828820e-01],\n",
       "       [4.71558794e-01, 5.28441206e-01],\n",
       "       [7.18045905e-02, 9.28195409e-01],\n",
       "       [6.06983007e-02, 9.39301699e-01],\n",
       "       [1.39474202e-01, 8.60525798e-01],\n",
       "       [9.98451267e-01, 1.54873318e-03],\n",
       "       [5.22673788e-02, 9.47732621e-01],\n",
       "       [1.29752230e-03, 9.98702478e-01],\n",
       "       [7.11951600e-02, 9.28804840e-01],\n",
       "       [4.13116444e-02, 9.58688356e-01],\n",
       "       [8.62312789e-01, 1.37687211e-01],\n",
       "       [4.34508332e-02, 9.56549167e-01],\n",
       "       [9.70498574e-01, 2.95014259e-02],\n",
       "       [1.16558424e-01, 8.83441576e-01],\n",
       "       [3.55029208e-01, 6.44970792e-01],\n",
       "       [6.69136041e-03, 9.93308640e-01],\n",
       "       [7.15971364e-02, 9.28402864e-01],\n",
       "       [9.56942263e-01, 4.30577368e-02],\n",
       "       [4.31346736e-01, 5.68653264e-01],\n",
       "       [5.76157161e-01, 4.23842839e-01],\n",
       "       [4.96231642e-01, 5.03768358e-01],\n",
       "       [9.97803930e-01, 2.19607043e-03],\n",
       "       [7.91606265e-02, 9.20839374e-01],\n",
       "       [6.52325535e-01, 3.47674465e-01],\n",
       "       [9.52067356e-01, 4.79326437e-02],\n",
       "       [8.73525247e-01, 1.26474753e-01],\n",
       "       [6.48499511e-02, 9.35150049e-01],\n",
       "       [1.68348261e-01, 8.31651739e-01],\n",
       "       [3.77156549e-01, 6.22843451e-01],\n",
       "       [1.38630067e-02, 9.86136993e-01],\n",
       "       [9.94524080e-01, 5.47591994e-03],\n",
       "       [6.94722358e-01, 3.05277642e-01],\n",
       "       [9.88544437e-01, 1.14555631e-02],\n",
       "       [9.72635612e-01, 2.73643881e-02],\n",
       "       [8.63675297e-01, 1.36324703e-01],\n",
       "       [9.98681063e-01, 1.31893693e-03],\n",
       "       [4.11765703e-01, 5.88234297e-01],\n",
       "       [8.50212338e-01, 1.49787662e-01],\n",
       "       [7.08317699e-01, 2.91682301e-01],\n",
       "       [8.93244819e-01, 1.06755181e-01],\n",
       "       [1.16731263e-01, 8.83268737e-01],\n",
       "       [9.99528311e-01, 4.71688548e-04],\n",
       "       [9.61495638e-01, 3.85043619e-02],\n",
       "       [5.45428912e-01, 4.54571088e-01],\n",
       "       [1.46474563e-01, 8.53525437e-01],\n",
       "       [4.41202400e-01, 5.58797600e-01],\n",
       "       [8.79626887e-02, 9.12037311e-01],\n",
       "       [1.18724176e-02, 9.88127582e-01],\n",
       "       [8.50941961e-01, 1.49058039e-01],\n",
       "       [1.30542125e-02, 9.86945788e-01],\n",
       "       [1.28022915e-01, 8.71977085e-01],\n",
       "       [9.52855694e-01, 4.71443061e-02],\n",
       "       [9.56991325e-01, 4.30086749e-02],\n",
       "       [1.59612857e-02, 9.84038714e-01],\n",
       "       [3.36485602e-01, 6.63514398e-01],\n",
       "       [4.52418104e-02, 9.54758190e-01],\n",
       "       [9.81796275e-01, 1.82037252e-02],\n",
       "       [7.48026271e-02, 9.25197373e-01],\n",
       "       [4.62643894e-02, 9.53735611e-01],\n",
       "       [8.08207400e-01, 1.91792600e-01],\n",
       "       [9.86567231e-01, 1.34327693e-02],\n",
       "       [9.99844708e-01, 1.55291996e-04],\n",
       "       [5.04043612e-01, 4.95956388e-01],\n",
       "       [1.18235046e-01, 8.81764954e-01],\n",
       "       [1.47744969e-02, 9.85225503e-01],\n",
       "       [9.79308637e-01, 2.06913628e-02],\n",
       "       [7.14122775e-02, 9.28587723e-01],\n",
       "       [4.56693303e-01, 5.43306697e-01],\n",
       "       [8.90928061e-01, 1.09071939e-01],\n",
       "       [9.85895223e-01, 1.41047774e-02],\n",
       "       [1.31734184e-01, 8.68265816e-01],\n",
       "       [9.48245018e-01, 5.17549824e-02],\n",
       "       [2.74609303e-02, 9.72539070e-01],\n",
       "       [9.98977627e-01, 1.02237306e-03],\n",
       "       [1.50965477e-01, 8.49034523e-01],\n",
       "       [9.78325124e-01, 2.16748765e-02],\n",
       "       [9.36263087e-02, 9.06373691e-01],\n",
       "       [6.15703268e-02, 9.38429673e-01]])"
      ]
     },
     "execution_count": 10,
     "metadata": {},
     "output_type": "execute_result"
    }
   ],
   "source": [
    "Y_prob = cls.predict_proba(X)\n",
    "Y_prob"
   ]
  },
  {
   "cell_type": "code",
   "execution_count": 11,
   "metadata": {},
   "outputs": [
    {
     "data": {
      "text/plain": [
       "array([0, 1, 0, 0, 0, 1, 0, 0, 1, 1, 1, 0, 0, 0, 1, 0, 1, 1, 1, 0, 1, 1,\n",
       "       1, 0, 0, 1, 0, 0, 1, 1, 1, 0, 1, 1, 0, 1, 0, 0, 1, 0, 0, 0, 0, 0,\n",
       "       0, 1, 0, 0, 0, 0, 1, 0, 1, 0, 0, 0, 0, 1, 0, 1, 0, 1, 0, 1, 1, 1,\n",
       "       0, 0, 0, 0, 1, 1, 1, 1, 1, 1, 0, 1, 1, 1, 0, 1, 1, 1, 0, 0, 0, 0,\n",
       "       1, 0, 0, 1, 1, 0, 0, 0, 1, 0, 0, 1, 1, 1, 1, 0, 0, 1, 0, 0, 1, 1,\n",
       "       0, 1, 0, 1, 0, 1, 0, 0])"
      ]
     },
     "execution_count": 11,
     "metadata": {},
     "output_type": "execute_result"
    }
   ],
   "source": [
    "Y_hat = cls.predict(X)\n",
    "Y_hat"
   ]
  },
  {
   "cell_type": "code",
   "execution_count": 12,
   "metadata": {},
   "outputs": [
    {
     "data": {
      "text/plain": [
       "0.8728813559322034"
      ]
     },
     "execution_count": 12,
     "metadata": {},
     "output_type": "execute_result"
    }
   ],
   "source": [
    "accuracy_score(Y, Y_hat)"
   ]
  },
  {
   "cell_type": "code",
   "execution_count": 13,
   "metadata": {},
   "outputs": [
    {
     "data": {
      "image/png": "[encoded data removed]",
      "text/plain": [
       "<Figure size 432x288 with 1 Axes>"
      ]
     },
     "metadata": {
      "needs_background": "light"
     },
     "output_type": "display_data"
    }
   ],
   "source": [
    "plot_data(X, Y)\n",
    "plot_surface(cls, X[:, 0], X[:, 1])"
   ]
  },
  {
   "cell_type": "markdown",
   "metadata": {},
   "source": [
    "Зверніть увагу на границю прийняття рішення. Модель старається побудувати складну криву, що може свідчити про її перетренування. Порівняйте отримані результати з класом з sklearn. Спробуйте додати нові шари для нашого класу та порівняти результати тоді. Поекспериментуйте з гіперпараметрами для обох класів."
   ]
  },
  {
   "cell_type": "code",
   "execution_count": 14,
   "metadata": {},
   "outputs": [],
   "source": [
    "from sklearn.neural_network import MLPClassifier\n",
    "clf = MLPClassifier(hidden_layer_sizes = (20,), max_iter = 10000, activation = 'relu', solver = 'sgd', learning_rate_init = 0.01, learning_rate = 'constant')"
   ]
  },
  {
   "cell_type": "code",
   "execution_count": 15,
   "metadata": {},
   "outputs": [
    {
     "data": {
      "text/plain": [
       "MLPClassifier(hidden_layer_sizes=(20,), learning_rate_init=0.01, max_iter=10000,\n",
       "              solver='sgd')"
      ]
     },
     "execution_count": 15,
     "metadata": {},
     "output_type": "execute_result"
    }
   ],
   "source": [
    "clf.fit(X, Y)"
   ]
  },
  {
   "cell_type": "code",
   "execution_count": 16,
   "metadata": {},
   "outputs": [
    {
     "data": {
      "image/png": "[encoded data removed]",
      "text/plain": [
       "<Figure size 432x288 with 1 Axes>"
      ]
     },
     "metadata": {
      "needs_background": "light"
     },
     "output_type": "display_data"
    }
   ],
   "source": [
    "plot_data(X, Y)\n",
    "plot_surface(clf, X[:, 0], X[:, 1])"
   ]
  },
  {
   "cell_type": "code",
   "execution_count": 17,
   "metadata": {},
   "outputs": [
    {
     "data": {
      "text/plain": [
       "0.8389830508474576"
      ]
     },
     "execution_count": 17,
     "metadata": {},
     "output_type": "execute_result"
    }
   ],
   "source": [
    "accuracy_score(Y, clf.predict(X))"
   ]
  },
  {
   "cell_type": "code",
   "execution_count": null,
   "metadata": {},
   "outputs": [],
   "source": []
  },
  {
   "cell_type": "code",
   "execution_count": null,
   "metadata": {},
   "outputs": [],
   "source": []
  },
  {
   "cell_type": "code",
   "execution_count": null,
   "metadata": {},
   "outputs": [],
   "source": []
  }
 ],
 "metadata": {
  "kernelspec": {
   "display_name": "Python 3",
   "language": "python",
   "name": "python3"
  },
  "language_info": {
   "codemirror_mode": {
    "name": "ipython",
    "version": 3
   },
   "file_extension": ".py",
   "mimetype": "text/x-python",
   "name": "python",
   "nbconvert_exporter": "python",
   "pygments_lexer": "ipython3",
   "version": "3.6.11"
  }
 },
 "nbformat": 4,
 "nbformat_minor": 1
}
